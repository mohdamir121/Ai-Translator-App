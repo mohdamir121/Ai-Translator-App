{
 "cells": [
  {
   "cell_type": "code",
   "execution_count": 16,
   "id": "c93a48a2-a301-43e6-b441-adccf2ec0e14",
   "metadata": {},
   "outputs": [],
   "source": [
    "#Task given by Bharat Intern.\n",
    "#Translator App\n",
    "\n",
    "import tkinter as tk\n",
    "from googletrans import Translator\n",
    "\n",
    "def translate_text():\n",
    "    input_text = text_input.get(\"1.0\", tk.END).strip()\n",
    "    if input_text:\n",
    "        translator = Translator()\n",
    "        source_lang = \"en\"\n",
    "        target_lang = \"hi\"  \n",
    "        \n",
    "        try:\n",
    "            translated_text = translator.translate(input_text, src=source_lang, dest=target_lang).text\n",
    "            text_output.config(state=tk.NORMAL)\n",
    "            text_output.delete(\"1.0\", tk.END)\n",
    "            text_output.insert(tk.END, translated_text)\n",
    "            text_output.config(state=tk.DISABLED)\n",
    "        except Exception as e:\n",
    "            text_output.config(state=tk.NORMAL)\n",
    "            text_output.delete(\"1.0\", tk.END)\n",
    "            text_output.insert(tk.END, f\"Translation Error: {str(e)}\")\n",
    "            text_output.config(state=tk.DISABLED)\n",
    "\n",
    "app = tk.Tk()\n",
    "app.title(\"English to Hindi Translator\")\n",
    "app.geometry(\"600x400\")\n",
    "app.configure(bg=\"#f2f2f2\") \n",
    "\n",
    "header_label = tk.Label(app, text=\" Ai Translator App\", font=(\"Helvetica\", 20), bg=\"#f2f2f2\")\n",
    "header_label.pack(pady=10)\n",
    "\n",
    "text_input = tk.Text(app, height=5, wrap=tk.WORD, font=(\"Helvetica\", 10), bg=\"white\")\n",
    "text_output = tk.Text(app, height=5, wrap=tk.WORD, state=tk.DISABLED, font=(\"Helvetica\", 10), bg=\"white\")\n",
    "\n",
    "translate_button = tk.Button(app, text=\"Translate\", command=translate_text, bg=\"#4caf50\", fg=\"white\", font=(\"Helvetica\", 14), height=2, width=10)\n",
    "\n",
    "text_input.pack(padx=20, pady=10)\n",
    "text_output.pack(padx=20, pady=10)\n",
    "translate_button.pack(pady=20)\n",
    "\n",
    "app.mainloop()\n"
   ]
  },
  {
   "cell_type": "code",
   "execution_count": null,
   "id": "ccf9e0c5-5490-4be2-bc32-bc9e89227038",
   "metadata": {},
   "outputs": [],
   "source": []
  }
 ],
 "metadata": {
  "kernelspec": {
   "display_name": "Python 3 (ipykernel)",
   "language": "python",
   "name": "python3"
  },
  "language_info": {
   "codemirror_mode": {
    "name": "ipython",
    "version": 3
   },
   "file_extension": ".py",
   "mimetype": "text/x-python",
   "name": "python",
   "nbconvert_exporter": "python",
   "pygments_lexer": "ipython3",
   "version": "3.11.4"
  }
 },
 "nbformat": 4,
 "nbformat_minor": 5
}
